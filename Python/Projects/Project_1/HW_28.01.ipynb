{
 "cells": [
  {
   "cell_type": "markdown",
   "metadata": {},
   "source": [
    "\n",
    " define function that get parameters from user\n",
    "number between \n",
    "+ -> 10-20\n",
    "+ -> 40-70\n",
    "+ -> 100-200 \n",
    "\n"
   ]
  },
  {
   "cell_type": "code",
   "execution_count": 6,
   "metadata": {},
   "outputs": [
    {
     "name": "stdout",
     "output_type": "stream",
     "text": [
      "number between 10-20: 15\n",
      "You wrote 2 please try again to enter number between 40-70\n",
      "number between 40-70: 41\n",
      "You wrote 80 please try again to enter number between 100-200\n",
      "number between 100-200: 111\n"
     ]
    }
   ],
   "source": [
    "def numbers(msgnum, minInt, maxInt):\n",
    "    while(True):\n",
    "        number = input(\"What is the number \" + msgnum + \" you picked?\")\n",
    "        if number.isdigit():\n",
    "            if (int(number) > minInt and int(number) < maxInt):\n",
    "                return number\n",
    "            else:\n",
    "                print(\"You wrote \" + number + \" please try again to enter number between \" + str(minInt) + \"-\" + str(maxInt))\n",
    "        else:\n",
    "            print(number +\" is wrong input. Please enter just numbers\")\n",
    "\n",
    "\n",
    "print(\"number between 10-20: \" + numbers(\"number between 10-20\", 10, 20))\n",
    "print(\"number between 40-70: \" + numbers(\"number between 40-70 \", 40, 70))\n",
    "print(\"number between 100-200: \" + numbers(\"number between 100-200 \", 100, 200))\n"
   ]
  },
  {
   "cell_type": "markdown",
   "metadata": {},
   "source": [
    "1. define list of food\n",
    "2. enable the user to add food to the list\n",
    "3. print the food list sorted\n",
    "4. another print the opposite sorted\n",
    "5. remove item that the user pick\n"
   ]
  },
  {
   "cell_type": "code",
   "execution_count": 7,
   "metadata": {},
   "outputs": [
    {
     "name": "stdout",
     "output_type": "stream",
     "text": [
      "['apple', 'cherry', 'banana', 'melon']\n",
      "['apple', 'banana', 'cherry', 'melon']\n",
      "['melon', 'cherry', 'banana', 'apple']\n",
      "['melon', 'banana', 'apple']\n"
     ]
    }
   ],
   "source": [
    "foodlist = [\"apple\", \"cherry\", \"banana\"]\n",
    "\n",
    "\n",
    "def my_function(add, remove):\n",
    "\n",
    "    foodlist.append(add)\n",
    "    print(foodlist)\n",
    "\n",
    "    foodlist.sort()\n",
    "    print(foodlist)\n",
    "\n",
    "    foodlist.reverse()\n",
    "    print(foodlist)\n",
    "\n",
    "    foodlist.remove(remove)\n",
    "    print(foodlist)\n",
    "    \n",
    "input_a = input(\"What food add to the list? \"+str(foodlist))\n",
    "input_b = input(\"What food remove from the list? \"+str(foodlist))\n",
    "my_function(input_a, input_b)\n"
   ]
  },
  {
   "cell_type": "markdown",
   "metadata": {},
   "source": [
    "Example for implicit and explicit\n"
   ]
  },
  {
   "cell_type": "code",
   "execution_count": 8,
   "metadata": {},
   "outputs": [
    {
     "name": "stdout",
     "output_type": "stream",
     "text": [
      "<class 'list'>\n",
      "<class 'tuple'>\n",
      "<class 'list'>\n",
      "<class 'tuple'>\n"
     ]
    }
   ],
   "source": [
    "# Implicit:\n",
    "mylist1 = [\"apple\", \"banana\", \"cherry\"] #list\n",
    "mylist2 = (\"apple\", \"banana\", \"cherry\") #tuple\n",
    "# Explicit:\n",
    "mylist3 = list((\"apple\", \"banana\", \"cherry\")) #list\n",
    "mylist4 = tuple((\"apple\", \"banana\", \"cherry\")) #tuple\n",
    "# Result are equals\n",
    "print(type(mylist1))\n",
    "print(type(mylist2))\n",
    "print(type(mylist3))\n",
    "print(type(mylist4))\n",
    "\n"
   ]
  },
  {
   "cell_type": "markdown",
   "metadata": {},
   "source": [
    "# Collections\n",
    "+ define tuple explicit \n",
    "+ define tuple implicit\n",
    "+ define list explicit\n",
    "+ define list implicit\n",
    "+ define dictionary\n",
    "\n",
    "Build a functsion that:\n",
    "1. gets one of the above\n",
    "2. retirns it's type\n",
    "3. returns it's length\n",
    "4. returns the collection itselfs\n",
    "5. if its a list -> return the reverse of it"
   ]
  },
  {
   "cell_type": "code",
   "execution_count": 11,
   "metadata": {},
   "outputs": [
    {
     "name": "stdout",
     "output_type": "stream",
     "text": [
      "<class 'list'>\n",
      "3\n",
      "['apple', 'banana', 'cherry']\n",
      "['cherry', 'banana', 'apple']\n",
      "<class 'tuple'>\n",
      "3\n",
      "('apple', 'banana', 'cherry')\n",
      "not list\n",
      "<class 'list'>\n",
      "3\n",
      "['apple', 'banana', 'cherry']\n",
      "['cherry', 'banana', 'apple']\n",
      "<class 'tuple'>\n",
      "3\n",
      "('apple', 'banana', 'cherry')\n",
      "not list\n",
      "<class 'dict'>\n",
      "3\n",
      "{'food1': 'apple', 'food2': 'banana', 'food3': 'cherry'}\n",
      "not list\n"
     ]
    }
   ],
   "source": [
    "list_imp = [\"apple\", \"banana\", \"cherry\"]  # list implisit\n",
    "tup_imp = (\"apple\", \"banana\", \"cherry\")  # tuple implisit\n",
    "list_ex = list((\"apple\", \"banana\", \"cherry\"))  # list explicit\n",
    "tup_ex = tuple((\"apple\", \"banana\", \"cherry\"))  # tuple explicit\n",
    "dictionary = {\"food1\": \"apple\", \"food2\": \"banana\", \"food3\": \"cherry\"}\n",
    "\n",
    "\n",
    "def collection_function(a_collection):\n",
    "\n",
    "    print(type(a_collection))\n",
    "    print(len(a_collection))\n",
    "    print(a_collection)\n",
    "    if(type(a_collection)) is list:\n",
    "        a_collection.reverse()\n",
    "        print(a_collection)\n",
    "        # print(a_collection[-1:-len(a_collection)-1:-1]) #another way for reverse\n",
    "    else:\n",
    "        print(\"not list\")\n",
    "\n",
    "\n",
    "collection_function(list_imp)\n",
    "collection_function(tup_imp)\n",
    "collection_function(list_ex)\n",
    "collection_function(tup_ex)\n",
    "collection_function(dictionary)\n"
   ]
  },
  {
   "cell_type": "markdown",
   "metadata": {},
   "source": [
    "test of length and reverse index"
   ]
  },
  {
   "cell_type": "code",
   "execution_count": 12,
   "metadata": {},
   "outputs": [
    {
     "name": "stdout",
     "output_type": "stream",
     "text": [
      "4\n",
      "['a', 'b', 'c', 'd']\n",
      "['d', 'c', 'b', 'a']\n"
     ]
    }
   ],
   "source": [
    "x = [\"a\",\"b\",\"c\",\"d\"]\n",
    "length = len(x)\n",
    "print(length)\n",
    "print(x)\n",
    "print(x[-1:-length-1:-1])"
   ]
  },
  {
   "cell_type": "markdown",
   "metadata": {},
   "source": [
    "+ write function \n",
    "+ use dictionary to save users information - name, age, town"
   ]
  },
  {
   "cell_type": "code",
   "execution_count": 13,
   "metadata": {},
   "outputs": [
    {
     "name": "stdout",
     "output_type": "stream",
     "text": [
      "{'employee name: Chen': {'Age': '26', 'Town': 'Remat-gan'}}\n"
     ]
    }
   ],
   "source": [
    "info_Dict={}\n",
    "Employee={}\n",
    "#loop runnig 3 times\n",
    "for any_variable in range(0,1): #run the loop once, can increase the loops for number of employees\n",
    "    name=input(\"Enter Name: \") \n",
    "\n",
    "\n",
    "#Populate dictionary (info_Dict) with Employee's information using input()\n",
    "    info_Dict['Age'] =input(\"Age: \")\n",
    "    info_Dict['Town']=input(\"Town: \")\n",
    "\n",
    "#Add (info_Dict) to another dictionary (Employee) whose keys are Employee's name\n",
    "    Employee[\"employee name: \"+name]=(info_Dict)\n",
    "    \n",
    "\n",
    "\n",
    "#Empty Dictionary of Employees (info_Dict) so we can add new entry \n",
    "#on next loop - it act as temporary variable\n",
    "    info_Dict={} \n",
    "    # break here if I would run to run it once \n",
    "\n",
    "\n",
    "print(Employee)"
   ]
  }
 ],
 "metadata": {
  "interpreter": {
   "hash": "b89b5cfaba6639976dc87ff2fec6d58faec662063367e2c229c520fe71072417"
  },
  "kernelspec": {
   "display_name": "Python 3.10.1 64-bit",
   "language": "python",
   "name": "python3"
  },
  "language_info": {
   "codemirror_mode": {
    "name": "ipython",
    "version": 3
   },
   "file_extension": ".py",
   "mimetype": "text/x-python",
   "name": "python",
   "nbconvert_exporter": "python",
   "pygments_lexer": "ipython3",
   "version": "3.10.1"
  },
  "orig_nbformat": 4
 },
 "nbformat": 4,
 "nbformat_minor": 2
}
