{
 "cells": [
  {
   "cell_type": "markdown",
   "metadata": {},
   "source": [
    "FizBiz loop till 100. if num :3 with no rest -> Fiz\n",
    "                         num :5 with no rest -> Biz\n",
    "                         num :15 with no rest ->FizBiz"
   ]
  },
  {
   "cell_type": "code",
   "execution_count": null,
   "metadata": {},
   "outputs": [],
   "source": [
    "for i in range(1,101):\n",
    "    if i % 15 ==0:\n",
    "        print(\"FizBiz\")\n",
    "    if i % 3 ==0:\n",
    "        print(\"Fiz\")\n",
    "    if i % 5 ==0:\n",
    "        print(\"Biz\")\n",
    "\n",
    "    else:\n",
    "         print (i)"
   ]
  },
  {
   "cell_type": "markdown",
   "metadata": {},
   "source": [
    "3 num find the biffest and the smallest "
   ]
  },
  {
   "cell_type": "code",
   "execution_count": null,
   "metadata": {},
   "outputs": [],
   "source": [
    "n1 = 2\n",
    "n2 = 5\n",
    "n3 = 4\n",
    "msg = \"the Biggest number is {}\"\n",
    "if n1 > n2 > n3 :\n",
    "    print(msg.format(n1))\n",
    "if n2 > n3 :\n",
    "    print(msg.format(n2))\n",
    "else:\n",
    "    print(msg.format(n3))\n",
    "msg2 = \"the Smallest number is {}\"\n",
    "if n1 < n2 < n3 :\n",
    "    print(msg2.format(n1))\n",
    "if n2 < n3 :\n",
    "    print(msg2.format(n2))\n",
    "else:\n",
    "    print(msg2.format(n3))\n"
   ]
  },
  {
   "cell_type": "markdown",
   "metadata": {},
   "source": [
    "Print String"
   ]
  },
  {
   "cell_type": "code",
   "execution_count": null,
   "metadata": {},
   "outputs": [],
   "source": [
    "age = input(\"your age?\")\n",
    "if age.isdigit():\n",
    "    n1 = str(age)\n",
    "    print(n1*3)\n",
    "    print(str(n1)*3)\n",
    "else:\n",
    "    print(\"no\")\n"
   ]
  },
  {
   "cell_type": "markdown",
   "metadata": {},
   "source": [
    "Print int"
   ]
  },
  {
   "cell_type": "code",
   "execution_count": null,
   "metadata": {},
   "outputs": [],
   "source": [
    "age = input(\"your age?\")\n",
    "if age.isdigit():\n",
    "    n1 = int(age)\n",
    "    print(n1*3)\n",
    "    print((n1)*3)\n",
    "else:\n",
    "    print(\"no\")"
   ]
  },
  {
   "cell_type": "markdown",
   "metadata": {},
   "source": [
    "# functions \n",
    "+ first name length 2-10\n",
    "+ last name length 5-15\n",
    "+ capital\n",
    "+ prompt is somthing not right"
   ]
  },
  {
   "cell_type": "code",
   "execution_count": null,
   "metadata": {},
   "outputs": [],
   "source": [
    "\n",
    "def name_function():\n",
    "    keletfirstname = False  # flag to finish input from user /loop\n",
    "    while(keletfirstname != True):\n",
    "        firstname = input(\"What is your first Name?\")\n",
    "        x = firstname.capitalize()\n",
    "        if firstname.isdigit():  # is number\n",
    "            print( x + \" name cannot be a number\")\n",
    "        elif len(firstname) <= 2:\n",
    "            print( x + \" the name is too short\")\n",
    "        elif len(firstname) > 10:\n",
    "            print( x + \" the name is too long\")\n",
    "        else:\n",
    "            keletfirstname = True\n",
    "            return(\"First Name \" + x)  # Prompt to user\n",
    "\n",
    "def lastname_function():\n",
    "    keletlastname = False  # flag to finish input from user /loop\n",
    "    while(keletlastname != True):\n",
    "        lastname = input(\"What is your last Name?\")\n",
    "        l = lastname.capitalize()\n",
    "        if lastname.isdigit():  # is number\n",
    "            print( l + \" lastname cannot be a number\")\n",
    "        elif len(lastname) < 5:\n",
    "            print( l + \" the lastname is too short\")\n",
    "        elif len(lastname) > 15:\n",
    "            print( l + \" the lastname is too long\")\n",
    "        else:\n",
    "            keletlastname = True\n",
    "            print(\"last Name \" + l)  # Prompt to user            \n",
    "\n",
    "def age_function():\n",
    "    keletage = False # flag to finish input from user /loop\n",
    "    while(keletage!= True):\n",
    "        age = input(\"User Age\")\n",
    "        if age.isdigit(): #check it it is a number\n",
    "            if int(age) > 18: # age > 18\n",
    "                if int(age) < 99:\n",
    "                    print(\"Age \" + age) # all good\n",
    "                    keletage = True # flag to exit from the loop\n",
    "                else:\n",
    "                    print (\"Age too Big\")  #Prompt to user\n",
    "            else:\n",
    "                print(\"Age too small\") #Prompt to user\n",
    "        else:\n",
    "            print(\"Please input just numbers\") #Prompt to user\n",
    "            \n",
    "print (name_function()) \n",
    "lastname_function()       \n",
    "age_function()"
   ]
  },
  {
   "cell_type": "code",
   "execution_count": null,
   "metadata": {},
   "outputs": [],
   "source": [
    "# short if\n",
    "\n",
    "\n",
    "def name_function():\n",
    "    keletfirstname = False  # flag to finish input from user /loop\n",
    "    while(keletfirstname != True):\n",
    "        firstname = input(\"What is your first Name?\")\n",
    "        if (firstname.isdigit and len(firstname) <= 2 and len(firstname) > 10):\n",
    "            print(\"try write your name again cant be \" + firstname)\n",
    "        else:\n",
    "            firstName = firstname.capitalize()\n",
    "            print(\"your name is \" + firstName)\n",
    "        keletfirstname = True\n",
    "\n",
    "\n",
    "def lastname_function():\n",
    "    keletlastname = False  # flag to finish input from user /loop\n",
    "    while(keletlastname != True):\n",
    "        lastname = input(\"What is your last Name?\")\n",
    "        l = lastname.capitalize()\n",
    "        if lastname.isdigit():  # is number\n",
    "            print(l + \" lastname cannot be a number\")\n",
    "        elif len(lastname) < 5:\n",
    "            print(l + \" the lastname is too short\")\n",
    "        elif len(lastname) > 15:\n",
    "            print(l + \" the lastname is too long\")\n",
    "        else:\n",
    "            keletlastname = True\n",
    "            print(\"last Name \" + l)  # Prompt to user\n",
    "\n",
    "\n",
    "def age_function():\n",
    "    keletage = False  # flag to finish input from user /loop\n",
    "    while(keletage != True):\n",
    "        age = input(\"User Age\")\n",
    "        if age.isdigit():  # check it it is a number\n",
    "            if int(age) > 18:  # age > 18\n",
    "                if int(age) < 99:\n",
    "                    print(\"Age \" + age)  # all good\n",
    "                    keletage = True  # flag to exit from the loop\n",
    "                else:\n",
    "                    print(\"Age too Big\")  # Prompt to user\n",
    "            else:\n",
    "                print(\"Age too small\")  # Prompt to user\n",
    "        else:\n",
    "            print(\"Please input just numbers\")  # Prompt to user\n",
    "\n",
    "\n",
    "name_function()\n",
    "lastname_function()\n",
    "age_function()\n"
   ]
  },
  {
   "cell_type": "code",
   "execution_count": null,
   "metadata": {},
   "outputs": [],
   "source": [
    "def age_function():\n",
    "   \n",
    "    while(True):\n",
    "        age = input(\"User Age\")\n",
    "        if (age.isdigit()):  # check it it is a number\n",
    "            if (int(age) > 18 and int(age) < 99):\n",
    "                return age\n",
    "    \n",
    "            else:\n",
    "                print(\"Age need to be in range 18-99\")  # Prompt to user\n",
    "        else:\n",
    "            print(\"Age mast be a number\")  # Prompt to user\n",
    "    \n",
    "print(\"your age is \" + age_function())\n",
    "\n",
    "\n",
    "def name_function():\n",
    "    \n",
    "    while(True):\n",
    "        firstname = input(\"What is your first Name?\")\n",
    "        if (len(firstname) > 2 and len(firstname) < 10):\n",
    "            return firstname.capitalize\n",
    "        else:\n",
    "    \n",
    "            print(\"wrong \" + firstname)\n",
    "\n",
    "print(\"your name is \" + name_function())\n",
    "        \n",
    "\n"
   ]
  },
  {
   "cell_type": "markdown",
   "metadata": {},
   "source": [
    "Get Number Check \"10-30\""
   ]
  },
  {
   "cell_type": "code",
   "execution_count": null,
   "metadata": {},
   "outputs": [],
   "source": [
    "number=input(\"give number\")\n",
    "print (\"yes\") if number.isdigit() and int(number) > 10 and int(number) <30 else print (\"no\")"
   ]
  },
  {
   "cell_type": "code",
   "execution_count": null,
   "metadata": {},
   "outputs": [],
   "source": [
    "def getFirstName ():\n",
    "    check = True\n",
    "    while (check == True):\n",
    "        print('Enter your first name:')\n",
    "        firstName = input()\n",
    "        if (len (firstName) >=2 and len(firstName) <=10):\n",
    "            firstName = firstName.capitalize()\n",
    "            print (firstName)\n",
    "            # return (firstName)\n",
    "            check = False\n",
    "        else: \n",
    "            print ('the name must be between 2-10 char')\n",
    "FirName = getFirstName () "
   ]
  },
  {
   "cell_type": "markdown",
   "metadata": {},
   "source": [
    "# In One function\n",
    "print name of a cat and a dog\n",
    "cat 2-5\n",
    "dog 4-10"
   ]
  },
  {
   "cell_type": "code",
   "execution_count": null,
   "metadata": {},
   "outputs": [],
   "source": [
    "\n",
    "\n",
    "def animalName(msg, minLen, maxLen):\n",
    "\n",
    "    while(True):\n",
    "        name = input(\"What is the \" + msg + \"pet name?\")\n",
    "        if (len(name) > minLen and len(name) < maxLen):\n",
    "            return name\n",
    "        else:\n",
    "            print(msg+ \"animal name must be  \" + str(minLen) + \" maxlen \" + str(maxLen))\n",
    "\n",
    "\n",
    "print(\"cat name is: \" + animalName(\"cat \", 2, 5))\n",
    "print(\"dog name is: \" + animalName(\"dog \", 4, 10))\n"
   ]
  }
 ],
 "metadata": {
  "interpreter": {
   "hash": "b89b5cfaba6639976dc87ff2fec6d58faec662063367e2c229c520fe71072417"
  },
  "kernelspec": {
   "display_name": "Python 3.10.1 64-bit",
   "language": "python",
   "name": "python3"
  },
  "language_info": {
   "codemirror_mode": {
    "name": "ipython",
    "version": 3
   },
   "file_extension": ".py",
   "mimetype": "text/x-python",
   "name": "python",
   "nbconvert_exporter": "python",
   "pygments_lexer": "ipython3",
   "version": "3.10.1"
  },
  "orig_nbformat": 4
 },
 "nbformat": 4,
 "nbformat_minor": 2
}
