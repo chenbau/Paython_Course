{
 "cells": [
  {
   "cell_type": "markdown",
   "metadata": {},
   "source": [
    "Fist print program"
   ]
  },
  {
   "cell_type": "code",
   "execution_count": 4,
   "metadata": {},
   "outputs": [
    {
     "name": "stdout",
     "output_type": "stream",
     "text": [
      "hello\n"
     ]
    }
   ],
   "source": [
    "print(\"hello\")"
   ]
  },
  {
   "cell_type": "markdown",
   "metadata": {},
   "source": [
    "FizBiz loop till 100. if num :3 with no rest -> Fiz\n",
    "                         num :5 with no rest -> Biz\n",
    "                         num :15 with no rest ->FizBiz"
   ]
  },
  {
   "cell_type": "code",
   "execution_count": null,
   "metadata": {},
   "outputs": [],
   "source": [
    "for i in range(100):\n",
    "    if i % 15 ==0:\n",
    "        print(\"FizBiz\")\n",
    "    if i % 3 ==0:\n",
    "        print(\"Fiz\")\n",
    "    if i % 5 ==0:\n",
    "        print(\"Biz\")\n",
    "\n",
    "    else:\n",
    "         print (i)\n"
   ]
  },
  {
   "cell_type": "markdown",
   "metadata": {},
   "source": [
    "3 num find the biffest and the smallest "
   ]
  },
  {
   "cell_type": "code",
   "execution_count": 18,
   "metadata": {},
   "outputs": [
    {
     "name": "stdout",
     "output_type": "stream",
     "text": [
      "the Biggest number is 5\n",
      "the Smallest number is 4\n"
     ]
    }
   ],
   "source": [
    "n1 = 2\n",
    "n2 = 5\n",
    "n3 = 4\n",
    "msg = \"the Biggest number is {}\"\n",
    "if n1 > n2 > n3 :\n",
    "    print(msg.format(n1))\n",
    "if n2 > n3 :\n",
    "    print(msg.format(n2))\n",
    "else:\n",
    "    print(msg.format(n3))\n",
    "msg2 = \"the Smallest number is {}\"\n",
    "if n1 < n2 < n3 :\n",
    "    print(msg2.format(n1))\n",
    "if n2 < n3 :\n",
    "    print(msg2.format(n2))\n",
    "else:\n",
    "    print(msg2.format(n3))\n"
   ]
  },
  {
   "cell_type": "markdown",
   "metadata": {},
   "source": [
    "Print String"
   ]
  },
  {
   "cell_type": "code",
   "execution_count": 2,
   "metadata": {},
   "outputs": [
    {
     "name": "stdout",
     "output_type": "stream",
     "text": [
      "333\n",
      "333\n"
     ]
    }
   ],
   "source": [
    "age = input(\"your name?\")\n",
    "if age.isdigit():\n",
    "    n1 = str(age)\n",
    "    print(n1*3)\n",
    "    print(str(n1)*3)\n",
    "else:\n",
    "    print(\"no\")\n"
   ]
  },
  {
   "cell_type": "markdown",
   "metadata": {},
   "source": [
    "Print int"
   ]
  },
  {
   "cell_type": "code",
   "execution_count": 3,
   "metadata": {},
   "outputs": [
    {
     "name": "stdout",
     "output_type": "stream",
     "text": [
      "9\n",
      "9\n"
     ]
    }
   ],
   "source": [
    "age = input(\"your name?\")\n",
    "if age.isdigit():\n",
    "    n1 = int(age)\n",
    "    print(n1*3)\n",
    "    print((n1)*3)\n",
    "else:\n",
    "    print(\"no\")"
   ]
  },
  {
   "cell_type": "code",
   "execution_count": 5,
   "metadata": {},
   "outputs": [
    {
     "name": "stdout",
     "output_type": "stream",
     "text": [
      "too big\n",
      "age too small\n",
      "age55\n"
     ]
    }
   ],
   "source": [
    "kelet = False  # flag to finish input from the user /loop\n",
    "while (kelet != True):\n",
    "    age = input(\"your age?\")\n",
    "    if age.isdigit():  # is number\n",
    "        if int(age) > 18:  # age > 18\n",
    "            if int(age) < 99:  # age < 99\n",
    "                print(\"age \" + age)  # all good\n",
    "                kelet = True  # flag to exit from the loot\n",
    "            else:\n",
    "                print(\"too big\")  # prompt to user\n",
    "        else:\n",
    "            print(\"age too small\")  # prompt to user\n",
    "    else:\n",
    "        print(\"just numbers\")  # prompt to user\n"
   ]
  },
  {
   "cell_type": "markdown",
   "metadata": {},
   "source": [
    "Get Number Check \"10-30\""
   ]
  },
  {
   "cell_type": "code",
   "execution_count": 9,
   "metadata": {},
   "outputs": [
    {
     "name": "stdout",
     "output_type": "stream",
     "text": [
      "yes\n"
     ]
    }
   ],
   "source": [
    "number=input(\"give number\")\n",
    "print (\"yes\") if number.isdigit() and int(number) > 10 and int(number) <30 else print (\"no\")"
   ]
  }
 ],
 "metadata": {
  "interpreter": {
   "hash": "b89b5cfaba6639976dc87ff2fec6d58faec662063367e2c229c520fe71072417"
  },
  "kernelspec": {
   "display_name": "Python 3.10.1 64-bit",
   "language": "python",
   "name": "python3"
  },
  "language_info": {
   "codemirror_mode": {
    "name": "ipython",
    "version": 3
   },
   "file_extension": ".py",
   "mimetype": "text/x-python",
   "name": "python",
   "nbconvert_exporter": "python",
   "pygments_lexer": "ipython3",
   "version": "3.10.1"
  },
  "orig_nbformat": 4
 },
 "nbformat": 4,
 "nbformat_minor": 2
}
