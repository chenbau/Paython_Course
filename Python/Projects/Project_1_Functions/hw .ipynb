{
 "cells": [
  {
   "cell_type": "code",
   "execution_count": 20,
   "source": [
    "#1 age - Done\r\n",
    "#2 city - Done\r\n",
    "#3 fname - Done\r\n",
    "#4 lname- Done\r\n",
    "\r\n",
    "# getting age from the user (digit, 18-90)\r\n",
    "# getting city from the user (2- 20 len,upper case)\r\n",
    "# getting user name (2-10, capital)\r\n",
    "# getting Last name (5-15, capital)\r\n",
    "\r\n",
    "\r\n",
    "# getting age from the user (digit, 18-90)\r\n",
    "def inputAge():\r\n",
    "    while(True):\r\n",
    "        age = input(\"how old are you?\")\r\n",
    "        if(age.isdigit()):\r\n",
    "            if(int(age)> 18 and int(age)<99):\r\n",
    "                return age\r\n",
    "            else:\r\n",
    "                print(\"age must be in range 18-99\")\r\n",
    "        else:\r\n",
    "            print(\"age must be number\")\r\n",
    "    \r\n",
    "# getting city from the user (2- 20 len,upper case)\r\n",
    "def inputCity():\r\n",
    "    while(True):\r\n",
    "        city = input(\"enter your city?\")\r\n",
    "        if(len(city) > 2 and len(city)<20):\r\n",
    "            return city.upper()\r\n",
    "        else:\r\n",
    "            print(\"city name must be between 2 -20\")\r\n",
    "\r\n",
    "#getting user name (2-10, capital)\r\n",
    "def inputFName():\r\n",
    "    while(True):\r\n",
    "        firstName = input(\"enter your first name?\")\r\n",
    "        if(len(firstName) > 2 and len(firstName)<10):\r\n",
    "            return firstName.capitalize()\r\n",
    "        else:\r\n",
    "            print(\"first name must be between 2 -10\")\r\n",
    "            \r\n",
    "#getting Last name (5-15, capital)\r\n",
    "def inputLName():\r\n",
    "    while(True):\r\n",
    "        lastName = input(\"enter your Last name?\")\r\n",
    "        if(len(lastName) > 2 and len(lastName)<15):\r\n",
    "            return lastName.capitalize()\r\n",
    "        else:\r\n",
    "            print(\"Last name must be between 2 -10\")\r\n",
    "\r\n",
    "\r\n",
    "print(\"your age is:\" + inputAge())\r\n",
    "print(\"your city is:\" +inputCity())\r\n",
    "print(\"your first name is:\" +inputFName())\r\n",
    "print(\"your last name is:\" +inputLName())\r\n",
    "\r\n",
    "\r\n"
   ],
   "outputs": [
    {
     "output_type": "stream",
     "name": "stdout",
     "text": [
      "your age is:34\n",
      "your city is:TLV\n",
      "your first name is:Eyal\n",
      "your last name is:Gold\n"
     ]
    }
   ],
   "metadata": {}
  },
  {
   "cell_type": "code",
   "execution_count": 26,
   "source": [
    "#1 age - Done\r\n",
    "#2 city - Done\r\n",
    "#3 fname - Done\r\n",
    "#4 lname- Done\r\n",
    "\r\n",
    "# getting age from the user (digit, 18-90)\r\n",
    "# getting city from the user (2- 20 len,upper case)\r\n",
    "# getting user name (2-10, capital)\r\n",
    "# getting Last name (5-15, capital)\r\n",
    "\r\n",
    "\r\n",
    "# getting age from the user (digit, 18-90)\r\n",
    "def inputAge():\r\n",
    "    while(True):\r\n",
    "        age = input(\"how old are you?\")\r\n",
    "        if(age.isdigit()):\r\n",
    "            if(int(age)> 18 and int(age)<99):\r\n",
    "                return age\r\n",
    "            else:\r\n",
    "                print(\"age must be in range 18-99\")\r\n",
    "        else:\r\n",
    "            print(\"age must be number\")\r\n",
    "    \r\n",
    "# getting city from the user (2- 20 len,upper case)\r\n",
    "def inputCity():\r\n",
    "    while(True):\r\n",
    "        city = input(\"enter your city?\")\r\n",
    "        if(len(city) > 2 and len(city)<20):\r\n",
    "            return city.upper()\r\n",
    "        else:\r\n",
    "            print(\"city name must be between 2 -20\")\r\n",
    "\r\n",
    "#getting user name (2-10, capital)\r\n",
    "def inputUName(msg,maxLen):\r\n",
    "    while(True):\r\n",
    "        uname = input(\"enter your \"+  msg +\" name?\")\r\n",
    "        if(len(uname) > 2 and len(uname)< maxLen):\r\n",
    "            return uname.capitalize()\r\n",
    "        else:\r\n",
    "            print(msg + \" name must be between 2 -\" +str(maxLen))\r\n",
    "            \r\n",
    "#getting Last name (5-15, capital)\r\n",
    "# def inputLName(msg,maxLen):\r\n",
    "#     while(True):\r\n",
    "#         uname = input(\"enter your \" + msg +\" name?\")\r\n",
    "#         if(len(uname) > 2 and len(uname) < maxLen):\r\n",
    "#             return uname.capitalize()\r\n",
    "#         else:\r\n",
    "#             print( msg +\" name must be between 2 -\"  +str(maxLen))\r\n",
    "\r\n",
    "\r\n",
    "print(\"your age is:\" + inputAge())\r\n",
    "print(\"your city is:\" +inputCity())\r\n",
    "print(\"your first name is:\" +inputUName(\"first\" ,10))\r\n",
    "print(\"your last name is:\" +inputUName(\"last\",15))\r\n",
    "\r\n",
    "\r\n"
   ],
   "outputs": [
    {
     "output_type": "stream",
     "name": "stdout",
     "text": [
      "first name must be between 2 -10\n",
      "your first name is:Eyal\n",
      "last name must be between 2 -15\n",
      "your last name is:Gold\n"
     ]
    }
   ],
   "metadata": {}
  },
  {
   "cell_type": "code",
   "execution_count": 33,
   "source": [
    "# getting cat name  (2-5)\r\n",
    "# getting dog name  (4-10)\r\n",
    "\r\n",
    "def animalName(animalType,minLen,maxLen):\r\n",
    "    while(True):\r\n",
    "        animalNameStr =input(\"what is the \"+ animalType +\" name?\")\r\n",
    "        if(len(animalNameStr) > minLen  and len(animalNameStr) < maxLen):\r\n",
    "            return animalNameStr\r\n",
    "        else:\r\n",
    "            print(animalType+ \" name must be min len \" + str(minLen) +\" and maxlen is \"+ str(maxLen))\r\n",
    "\r\n",
    "\r\n",
    "print(\"Your cat name is: \" + animalName(\"cat\",2,5))\r\n",
    "print(\"Your dog name is:\" + animalName(\"dog\",4,10))"
   ],
   "outputs": [
    {
     "output_type": "stream",
     "name": "stdout",
     "text": [
      "cat name must be min len 2 and maxlen is 5\n",
      "Your cat name is: gar\n",
      "dog name must be min len 4 and maxlen is 10\n",
      "Your dog name is:barkk\n"
     ]
    }
   ],
   "metadata": {}
  },
  {
   "cell_type": "code",
   "execution_count": 40,
   "source": [
    "i =\"[3,5]\"\r\n",
    "if( type(i) == list):\r\n",
    "    print(i)\r\n",
    "else:\r\n",
    "    print(\"not a list\")"
   ],
   "outputs": [
    {
     "output_type": "stream",
     "name": "stdout",
     "text": [
      "not a list\n"
     ]
    }
   ],
   "metadata": {}
  },
  {
   "cell_type": "code",
   "execution_count": 48,
   "source": [
    "mytuple =tuple((\"apple\", \"banana\", \"cherry\")) \r\n",
    "print(type(mytuple))\r\n",
    "print(mytuple)\r\n",
    "myList =[mytuple]\r\n",
    "print(myList)"
   ],
   "outputs": [
    {
     "output_type": "stream",
     "name": "stdout",
     "text": [
      "<class 'tuple'>\n",
      "('apple', 'banana', 'cherry')\n",
      "[('apple', 'banana', 'cherry')]\n"
     ]
    }
   ],
   "metadata": {}
  },
  {
   "cell_type": "markdown",
   "source": [
    "instance/object"
   ],
   "metadata": {}
  },
  {
   "cell_type": "code",
   "execution_count": 50,
   "source": [
    "thisList = [\"apple\", \"banana\", \"cherry\"]\r\n",
    "if \"apple\" in thisList:\r\n",
    "  print(\"Yes, 'apple' is in the fruits list\")"
   ],
   "outputs": [
    {
     "output_type": "stream",
     "name": "stdout",
     "text": [
      "Yes, 'apple' is in the fruits tuple\n"
     ]
    }
   ],
   "metadata": {}
  },
  {
   "cell_type": "code",
   "execution_count": null,
   "source": [
    "mylist = [\"apple\", \"banana\", \"cherry\"]"
   ],
   "outputs": [],
   "metadata": {}
  }
 ],
 "metadata": {
  "orig_nbformat": 4,
  "language_info": {
   "name": "python",
   "version": "3.10.1",
   "mimetype": "text/x-python",
   "codemirror_mode": {
    "name": "ipython",
    "version": 3
   },
   "pygments_lexer": "ipython3",
   "nbconvert_exporter": "python",
   "file_extension": ".py"
  },
  "kernelspec": {
   "name": "python3",
   "display_name": "Python 3.10.1 64-bit"
  },
  "interpreter": {
   "hash": "2be5faf79681da6f2a61fdfdd5405d65d042280f7fba6178067603e3a2925119"
  }
 },
 "nbformat": 4,
 "nbformat_minor": 2
}