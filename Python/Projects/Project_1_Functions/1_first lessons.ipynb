{
 "cells": [
  {
   "cell_type": "markdown",
   "metadata": {},
   "source": [
    "FizBiz loop till 100. if num :3 with no rest -> Fiz\n",
    "                         num :5 with no rest -> Biz\n",
    "                         num :15 with no rest ->FizBiz"
   ]
  },
  {
   "cell_type": "code",
   "execution_count": null,
   "metadata": {},
   "outputs": [],
   "source": [
    "for i in range(1,101):\n",
    "    if i % 15 ==0:\n",
    "        print(\"FizBiz\")\n",
    "    if i % 3 ==0:\n",
    "        print(\"Fiz\")\n",
    "    if i % 5 ==0:\n",
    "        print(\"Biz\")\n",
    "\n",
    "    else:\n",
    "         print (i)"
   ]
  },
  {
   "cell_type": "markdown",
   "metadata": {},
   "source": [
    "3 num find the biffest and the smallest "
   ]
  },
  {
   "cell_type": "code",
   "execution_count": null,
   "metadata": {},
   "outputs": [],
   "source": [
    "n1 = 2\n",
    "n2 = 5\n",
    "n3 = 4\n",
    "msg = \"the Biggest number is {}\"\n",
    "if n1 > n2 > n3 :\n",
    "    print(msg.format(n1))\n",
    "if n2 > n3 :\n",
    "    print(msg.format(n2))\n",
    "else:\n",
    "    print(msg.format(n3))\n",
    "msg2 = \"the Smallest number is {}\"\n",
    "if n1 < n2 < n3 :\n",
    "    print(msg2.format(n1))\n",
    "if n2 < n3 :\n",
    "    print(msg2.format(n2))\n",
    "else:\n",
    "    print(msg2.format(n3))\n"
   ]
  },
  {
   "cell_type": "markdown",
   "metadata": {},
   "source": [
    "Print String"
   ]
  },
  {
   "cell_type": "code",
   "execution_count": null,
   "metadata": {},
   "outputs": [],
   "source": [
    "age = input(\"your age?\")\n",
    "if age.isdigit():\n",
    "    n1 = str(age)\n",
    "    print(n1*3)\n",
    "    print(str(n1)*3)\n",
    "else:\n",
    "    print(\"no\")\n"
   ]
  },
  {
   "cell_type": "markdown",
   "metadata": {},
   "source": [
    "Print int"
   ]
  },
  {
   "cell_type": "code",
   "execution_count": null,
   "metadata": {},
   "outputs": [],
   "source": [
    "age = input(\"your age?\")\n",
    "if age.isdigit():\n",
    "    n1 = int(age)\n",
    "    print(n1*3)\n",
    "    print((n1)*3)\n",
    "else:\n",
    "    print(\"no\")"
   ]
  },
  {
   "cell_type": "markdown",
   "metadata": {},
   "source": [
    "# functions \n",
    "+ first name length 2-10\n",
    "+ last name length 5-15\n",
    "+ capital\n",
    "+ prompt is somthing not right"
   ]
  },
  {
   "cell_type": "code",
   "execution_count": null,
   "metadata": {},
   "outputs": [],
   "source": [
    "\n",
    "def name_function():\n",
    "    keletfirstname = False  # flag to finish input from user /loop\n",
    "    while(keletfirstname != True):\n",
    "        firstname = input(\"What is your first Name?\")\n",
    "        x = firstname.capitalize()\n",
    "        if firstname.isdigit():  # is number\n",
    "            print( x + \" name cannot be a number\")\n",
    "        elif len(firstname) <= 2:\n",
    "            print( x + \" the name is too short\")\n",
    "        elif len(firstname) > 10:\n",
    "            print( x + \" the name is too long\")\n",
    "        else:\n",
    "            keletfirstname = True\n",
    "            return(\"First Name \" + x)  # Prompt to user\n",
    "\n",
    "def lastname_function():\n",
    "    keletlastname = False  # flag to finish input from user /loop\n",
    "    while(keletlastname != True):\n",
    "        lastname = input(\"What is your last Name?\")\n",
    "        l = lastname.capitalize()\n",
    "        if lastname.isdigit():  # is number\n",
    "            print( l + \" lastname cannot be a number\")\n",
    "        elif len(lastname) < 5:\n",
    "            print( l + \" the lastname is too short\")\n",
    "        elif len(lastname) > 15:\n",
    "            print( l + \" the lastname is too long\")\n",
    "        else:\n",
    "            keletlastname = True\n",
    "            print(\"last Name \" + l)  # Prompt to user            \n",
    "\n",
    "def age_function():\n",
    "    keletage = False # flag to finish input from user /loop\n",
    "    while(keletage!= True):\n",
    "        age = input(\"User Age\")\n",
    "        if age.isdigit(): #check it it is a number\n",
    "            if int(age) > 18: # age > 18\n",
    "                if int(age) < 99:\n",
    "                    print(\"Age \" + age) # all good\n",
    "                    keletage = True # flag to exit from the loop\n",
    "                else:\n",
    "                    print (\"Age too Big\")  #Prompt to user\n",
    "            else:\n",
    "                print(\"Age too small\") #Prompt to user\n",
    "        else:\n",
    "            print(\"Please input just numbers\") #Prompt to user\n",
    "            \n",
    "print (name_function()) \n",
    "lastname_function()       \n",
    "age_function()"
   ]
  },
  {
   "cell_type": "code",
   "execution_count": null,
   "metadata": {},
   "outputs": [],
   "source": [
    "# short if\n",
    "\n",
    "\n",
    "def name_function():\n",
    "    keletfirstname = False  # flag to finish input from user /loop\n",
    "    while(keletfirstname != True):\n",
    "        firstname = input(\"What is your first Name?\")\n",
    "        if (firstname.isdigit and len(firstname) <= 2 and len(firstname) > 10):\n",
    "            print(\"try write your name again cant be \" + firstname)\n",
    "        else:\n",
    "            firstName = firstname.capitalize()\n",
    "            print(\"your name is \" + firstName)\n",
    "        keletfirstname = True\n",
    "\n",
    "\n",
    "def lastname_function():\n",
    "    keletlastname = False  # flag to finish input from user /loop\n",
    "    while(keletlastname != True):\n",
    "        lastname = input(\"What is your last Name?\")\n",
    "        l = lastname.capitalize()\n",
    "        if lastname.isdigit():  # is number\n",
    "            print(l + \" lastname cannot be a number\")\n",
    "        elif len(lastname) < 5:\n",
    "            print(l + \" the lastname is too short\")\n",
    "        elif len(lastname) > 15:\n",
    "            print(l + \" the lastname is too long\")\n",
    "        else:\n",
    "            keletlastname = True\n",
    "            print(\"last Name \" + l)  # Prompt to user\n",
    "\n",
    "\n",
    "def age_function():\n",
    "    keletage = False  # flag to finish input from user /loop\n",
    "    while(keletage != True):\n",
    "        age = input(\"User Age\")\n",
    "        if age.isdigit():  # check it it is a number\n",
    "            if int(age) > 18:  # age > 18\n",
    "                if int(age) < 99:\n",
    "                    print(\"Age \" + age)  # all good\n",
    "                    keletage = True  # flag to exit from the loop\n",
    "                else:\n",
    "                    print(\"Age too Big\")  # Prompt to user\n",
    "            else:\n",
    "                print(\"Age too small\")  # Prompt to user\n",
    "        else:\n",
    "            print(\"Please input just numbers\")  # Prompt to user\n",
    "\n",
    "\n",
    "name_function()\n",
    "lastname_function()\n",
    "age_function()\n"
   ]
  },
  {
   "cell_type": "code",
   "execution_count": null,
   "metadata": {},
   "outputs": [],
   "source": [
    "def age_function():\n",
    "   \n",
    "    while(True):\n",
    "        age = input(\"User Age\")\n",
    "        if (age.isdigit()):  # check it it is a number\n",
    "            if (int(age) > 18 and int(age) < 99):\n",
    "                return age\n",
    "    \n",
    "            else:\n",
    "                print(\"Age need to be in range 18-99\")  # Prompt to user\n",
    "        else:\n",
    "            print(\"Age mast be a number\")  # Prompt to user\n",
    "    \n",
    "print(\"your age is \" + age_function())\n",
    "\n",
    "\n",
    "def name_function():\n",
    "    \n",
    "    while(True):\n",
    "        firstname = input(\"What is your first Name?\")\n",
    "        if (len(firstname) > 2 and len(firstname) < 10):\n",
    "            return firstname.capitalize\n",
    "        else:\n",
    "    \n",
    "            print(\"wrong \" + firstname)\n",
    "\n",
    "print(\"your name is \" + name_function())\n",
    "        \n",
    "\n"
   ]
  },
  {
   "cell_type": "markdown",
   "metadata": {},
   "source": [
    "Get Number Check \"10-30\""
   ]
  },
  {
   "cell_type": "code",
   "execution_count": null,
   "metadata": {},
   "outputs": [],
   "source": [
    "number=input(\"give number\")\n",
    "print (\"yes\") if number.isdigit() and int(number) > 10 and int(number) <30 else print (\"no\")"
   ]
  },
  {
   "cell_type": "code",
   "execution_count": 2,
   "metadata": {},
   "outputs": [
    {
     "name": "stdout",
     "output_type": "stream",
     "text": [
      "Enter your first name:\n"
     ]
    },
    {
     "ename": "KeyboardInterrupt",
     "evalue": "Interrupted by user",
     "output_type": "error",
     "traceback": [
      "\u001b[1;31m---------------------------------------------------------------------------\u001b[0m",
      "\u001b[1;31mKeyboardInterrupt\u001b[0m                         Traceback (most recent call last)",
      "Input \u001b[1;32mIn [2]\u001b[0m, in \u001b[0;36m<module>\u001b[1;34m\u001b[0m\n\u001b[0;32m     11\u001b[0m         \u001b[38;5;28;01melse\u001b[39;00m: \n\u001b[0;32m     12\u001b[0m             \u001b[38;5;28mprint\u001b[39m (\u001b[38;5;124m'\u001b[39m\u001b[38;5;124mthe name must be between 2-10 char\u001b[39m\u001b[38;5;124m'\u001b[39m)\n\u001b[1;32m---> 13\u001b[0m FirName \u001b[38;5;241m=\u001b[39m \u001b[43mgetFirstName\u001b[49m\u001b[43m \u001b[49m\u001b[43m(\u001b[49m\u001b[43m)\u001b[49m\n",
      "Input \u001b[1;32mIn [2]\u001b[0m, in \u001b[0;36mgetFirstName\u001b[1;34m()\u001b[0m\n\u001b[0;32m      3\u001b[0m \u001b[38;5;28;01mwhile\u001b[39;00m (check \u001b[38;5;241m==\u001b[39m \u001b[38;5;28;01mTrue\u001b[39;00m):\n\u001b[0;32m      4\u001b[0m     \u001b[38;5;28mprint\u001b[39m(\u001b[38;5;124m'\u001b[39m\u001b[38;5;124mEnter your first name:\u001b[39m\u001b[38;5;124m'\u001b[39m)\n\u001b[1;32m----> 5\u001b[0m     firstName \u001b[38;5;241m=\u001b[39m \u001b[38;5;28;43minput\u001b[39;49m\u001b[43m(\u001b[49m\u001b[43m)\u001b[49m\n\u001b[0;32m      6\u001b[0m     \u001b[38;5;28;01mif\u001b[39;00m (\u001b[38;5;28mlen\u001b[39m (firstName) \u001b[38;5;241m>\u001b[39m\u001b[38;5;241m=\u001b[39m\u001b[38;5;241m2\u001b[39m \u001b[38;5;129;01mand\u001b[39;00m \u001b[38;5;28mlen\u001b[39m(firstName) \u001b[38;5;241m<\u001b[39m\u001b[38;5;241m=\u001b[39m\u001b[38;5;241m10\u001b[39m):\n\u001b[0;32m      7\u001b[0m         firstName \u001b[38;5;241m=\u001b[39m firstName\u001b[38;5;241m.\u001b[39mcapitalize()\n",
      "File \u001b[1;32m~\\AppData\\Roaming\\Python\\Python310\\site-packages\\ipykernel\\kernelbase.py:1044\u001b[0m, in \u001b[0;36mKernel.raw_input\u001b[1;34m(self, prompt)\u001b[0m\n\u001b[0;32m   1040\u001b[0m \u001b[38;5;28;01mif\u001b[39;00m \u001b[38;5;129;01mnot\u001b[39;00m \u001b[38;5;28mself\u001b[39m\u001b[38;5;241m.\u001b[39m_allow_stdin:\n\u001b[0;32m   1041\u001b[0m     \u001b[38;5;28;01mraise\u001b[39;00m StdinNotImplementedError(\n\u001b[0;32m   1042\u001b[0m         \u001b[38;5;124m\"\u001b[39m\u001b[38;5;124mraw_input was called, but this frontend does not support input requests.\u001b[39m\u001b[38;5;124m\"\u001b[39m\n\u001b[0;32m   1043\u001b[0m     )\n\u001b[1;32m-> 1044\u001b[0m \u001b[38;5;28;01mreturn\u001b[39;00m \u001b[38;5;28;43mself\u001b[39;49m\u001b[38;5;241;43m.\u001b[39;49m\u001b[43m_input_request\u001b[49m\u001b[43m(\u001b[49m\n\u001b[0;32m   1045\u001b[0m \u001b[43m    \u001b[49m\u001b[38;5;28;43mstr\u001b[39;49m\u001b[43m(\u001b[49m\u001b[43mprompt\u001b[49m\u001b[43m)\u001b[49m\u001b[43m,\u001b[49m\n\u001b[0;32m   1046\u001b[0m \u001b[43m    \u001b[49m\u001b[38;5;28;43mself\u001b[39;49m\u001b[38;5;241;43m.\u001b[39;49m\u001b[43m_parent_ident\u001b[49m\u001b[43m[\u001b[49m\u001b[38;5;124;43m\"\u001b[39;49m\u001b[38;5;124;43mshell\u001b[39;49m\u001b[38;5;124;43m\"\u001b[39;49m\u001b[43m]\u001b[49m\u001b[43m,\u001b[49m\n\u001b[0;32m   1047\u001b[0m \u001b[43m    \u001b[49m\u001b[38;5;28;43mself\u001b[39;49m\u001b[38;5;241;43m.\u001b[39;49m\u001b[43mget_parent\u001b[49m\u001b[43m(\u001b[49m\u001b[38;5;124;43m\"\u001b[39;49m\u001b[38;5;124;43mshell\u001b[39;49m\u001b[38;5;124;43m\"\u001b[39;49m\u001b[43m)\u001b[49m\u001b[43m,\u001b[49m\n\u001b[0;32m   1048\u001b[0m \u001b[43m    \u001b[49m\u001b[43mpassword\u001b[49m\u001b[38;5;241;43m=\u001b[39;49m\u001b[38;5;28;43;01mFalse\u001b[39;49;00m\u001b[43m,\u001b[49m\n\u001b[0;32m   1049\u001b[0m \u001b[43m\u001b[49m\u001b[43m)\u001b[49m\n",
      "File \u001b[1;32m~\\AppData\\Roaming\\Python\\Python310\\site-packages\\ipykernel\\kernelbase.py:1089\u001b[0m, in \u001b[0;36mKernel._input_request\u001b[1;34m(self, prompt, ident, parent, password)\u001b[0m\n\u001b[0;32m   1086\u001b[0m             \u001b[38;5;28;01mbreak\u001b[39;00m\n\u001b[0;32m   1087\u001b[0m \u001b[38;5;28;01mexcept\u001b[39;00m \u001b[38;5;167;01mKeyboardInterrupt\u001b[39;00m:\n\u001b[0;32m   1088\u001b[0m     \u001b[38;5;66;03m# re-raise KeyboardInterrupt, to truncate traceback\u001b[39;00m\n\u001b[1;32m-> 1089\u001b[0m     \u001b[38;5;28;01mraise\u001b[39;00m \u001b[38;5;167;01mKeyboardInterrupt\u001b[39;00m(\u001b[38;5;124m\"\u001b[39m\u001b[38;5;124mInterrupted by user\u001b[39m\u001b[38;5;124m\"\u001b[39m) \u001b[38;5;28;01mfrom\u001b[39;00m \u001b[38;5;28mNone\u001b[39m\n\u001b[0;32m   1090\u001b[0m \u001b[38;5;28;01mexcept\u001b[39;00m \u001b[38;5;167;01mException\u001b[39;00m:\n\u001b[0;32m   1091\u001b[0m     \u001b[38;5;28mself\u001b[39m\u001b[38;5;241m.\u001b[39mlog\u001b[38;5;241m.\u001b[39mwarning(\u001b[38;5;124m\"\u001b[39m\u001b[38;5;124mInvalid Message:\u001b[39m\u001b[38;5;124m\"\u001b[39m, exc_info\u001b[38;5;241m=\u001b[39m\u001b[38;5;28;01mTrue\u001b[39;00m)\n",
      "\u001b[1;31mKeyboardInterrupt\u001b[0m: Interrupted by user"
     ]
    }
   ],
   "source": [
    "def getFirstName ():\n",
    "    check = True\n",
    "    while (check == True):\n",
    "        print('Enter your first name:')\n",
    "        firstName = input()\n",
    "        if (len (firstName) >=2 and len(firstName) <=10):\n",
    "            firstName = firstName.capitalize()\n",
    "            print (firstName)\n",
    "            # return (firstName)\n",
    "            check = False\n",
    "        else: \n",
    "            print ('the name must be between 2-10 char')\n",
    "FirName = getFirstName () "
   ]
  },
  {
   "cell_type": "markdown",
   "metadata": {},
   "source": [
    "# In One function\n",
    "print name of a cat and a dog\n",
    "cat 2-5\n",
    "dog 4-10"
   ]
  },
  {
   "cell_type": "code",
   "execution_count": null,
   "metadata": {},
   "outputs": [],
   "source": [
    "\n",
    "\n",
    "def animalName(msg, minLen, maxLen):\n",
    "\n",
    "    while(True):\n",
    "        name = input(\"What is the \" + msg + \"pet name?\")\n",
    "        if (len(name) > minLen and len(name) < maxLen):\n",
    "            return name\n",
    "        else:\n",
    "            print(msg+ \"animal name must be  \" + str(minLen) + \" maxlen \" + str(maxLen))\n",
    "\n",
    "\n",
    "print(\"cat name is: \" + animalName(\"cat \", 2, 5))\n",
    "print(\"dog name is: \" + animalName(\"dog \", 4, 10))\n"
   ]
  }
 ],
 "metadata": {
  "interpreter": {
   "hash": "b89b5cfaba6639976dc87ff2fec6d58faec662063367e2c229c520fe71072417"
  },
  "kernelspec": {
   "display_name": "Python 3.10.1 64-bit",
   "language": "python",
   "name": "python3"
  },
  "language_info": {
   "codemirror_mode": {
    "name": "ipython",
    "version": 3
   },
   "file_extension": ".py",
   "mimetype": "text/x-python",
   "name": "python",
   "nbconvert_exporter": "python",
   "pygments_lexer": "ipython3",
   "version": "3.10.1"
  },
  "orig_nbformat": 4
 },
 "nbformat": 4,
 "nbformat_minor": 2
}
