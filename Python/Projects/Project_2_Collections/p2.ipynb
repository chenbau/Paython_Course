{
 "cells": [
  {
   "cell_type": "code",
   "execution_count": null,
   "metadata": {},
   "outputs": [],
   "source": [
    "myList =['milk']\n",
    "\n",
    "def foodInput():\n",
    "    while(True):\n",
    "        userInput= input(\"type any food name or X to exit\")\n",
    "        if(userInput != 'X'):\n",
    "            myList.append(userInput)\n",
    "        else:\n",
    "            return myList\n",
    "        \n",
    "def myRevers(ar):\n",
    "    ar.reverse()\n",
    "    return ar\n",
    "\n",
    "print(\"original order: \" +str( foodInput()))\n",
    "myList.sort()\n",
    "print(\"Sort order: \" +str( myList ))\n",
    "# myList.reverse()\n",
    "print(\"reverse order: \" +str(myRevers(myList)))\n",
    "myList.remove(input(\"any item to delete?\"))\n",
    "print(\"remove item from the list: \" +str( myList))\n"
   ]
  },
  {
   "cell_type": "code",
   "execution_count": 17,
   "metadata": {},
   "outputs": [
    {
     "name": "stdout",
     "output_type": "stream",
     "text": [
      "i'm a function<class 'str'>\n",
      "i'm a function<class 'tuple'>\n",
      "i'm a function<class 'list'>\n",
      "['lstItem']\n",
      "1\n",
      "['lstItem']\n",
      "i'm a function<class 'dict'>\n"
     ]
    }
   ],
   "source": [
    "myTuple =tuple( ('tplItem'))\n",
    "myList=['lstItem']\n",
    "myDictionary={\"name\":'yishai'}\n",
    "\n",
    "# type\n",
    "# len\n",
    "# print checkCollection\n",
    "# if list print reverse\n",
    "def checkCollection(anyColl):\n",
    "    print(\"i'm a function\" +str( type(anyColl)))\n",
    "    if( type(anyColl) == list):\n",
    "        print( anyColl)\n",
    "        print(len( anyColl))\n",
    "        anyColl.reverse()\n",
    "        print( anyColl)\n",
    "    \n",
    "\n",
    "\n",
    "\n",
    "checkCollection(\"\")\n",
    "checkCollection(myTuple)\n",
    "checkCollection(myList)\n",
    "checkCollection(myDictionary)\n",
    "\n"
   ]
  },
  {
   "cell_type": "code",
   "execution_count": 16,
   "metadata": {},
   "outputs": [
    {
     "name": "stdout",
     "output_type": "stream",
     "text": [
      "{}\n"
     ]
    }
   ],
   "source": [
    "obj ={'name':'maya'}\n",
    "obj2 = {'name':'maya'}\n",
    "obj2.clear()\n",
    "\n",
    "if(obj is obj2):\n",
    "\tprint(\"True\")\n",
    "else:\n",
    "\tprint(\"False\")"
   ]
  },
  {
   "cell_type": "code",
   "execution_count": 19,
   "metadata": {},
   "outputs": [
    {
     "name": "stdout",
     "output_type": "stream",
     "text": [
      "{'name': '', 'age': 0, 'city': ''}\n",
      "{'name': 'roy', 'age': '6', 'city': ''}\n"
     ]
    }
   ],
   "source": [
    "# name , age ,city\n",
    "\n",
    "employee = {\"name\":\"\",\"age\":0,\"city\":\"\"}\n",
    "print(employee)\n",
    "employee.update({\"name\": input(\"please insert your name\")})\n",
    "employee.update({\"age\": input(\"please insert your age\")})\n",
    "employee.update({\"city\": input(\"please insert your city\")})\n",
    "print(employee)"
   ]
  },
  {
   "cell_type": "code",
   "execution_count": 23,
   "metadata": {},
   "outputs": [
    {
     "name": "stdout",
     "output_type": "stream",
     "text": [
      "[{'name': 'maya', 'age': '5', 'city': 'po'}]\n",
      "[{'name': 'maya', 'age': '5', 'city': 'po'}, {'name': 'itay', 'age': '9', 'city': 'sham'}]\n"
     ]
    }
   ],
   "source": [
    "# employee={}\n",
    "employees=[]\n",
    "def getEmployee():\n",
    "    while(True):\n",
    "        employee={}\n",
    "        employee[\"name\"]=input(\"enter your name\")\n",
    "        employee[\"age\"] =input(\"enter your age\")\n",
    "        employee[\"city\"] =input(\"enter your city\")\n",
    "        employees.append( employee)\n",
    "        print(employees)\n",
    "        if input(\"continue? N - eXit\") ==\"N\": return\n",
    "\n",
    "getEmployee()\n"
   ]
  },
  {
   "cell_type": "code",
   "execution_count": 1,
   "metadata": {},
   "outputs": [
    {
     "name": "stdout",
     "output_type": "stream",
     "text": [
      "[{'name': 'Chen', 'age': '26', 'city': 'ramat'}]\n"
     ]
    }
   ],
   "source": [
    "# name , age ,city\n",
    "employees=[]\n",
    "\n",
    "\n",
    "def addEmployee():\n",
    "    while(True):\n",
    "        employee = {\"name\":\"\",\"age\":0,\"city\":\"\"}\n",
    "        employee.update({\"name\": input(\"please insert your name\")})\n",
    "        employee.update({\"age\": input(\"please insert your age\")})\n",
    "        employee.update({\"city\": input(\"please insert your city\")})\n",
    "        employees.append(employee)\n",
    "        if input(\"continue? N - eXit\") ==\"N\": return\n",
    "\n",
    "\n",
    "addEmployee()\n",
    "print(employees)"
   ]
  },
  {
   "cell_type": "code",
   "execution_count": 27,
   "metadata": {},
   "outputs": [
    {
     "name": "stdout",
     "output_type": "stream",
     "text": [
      "[{'name': 'mayyy', 'age': '8', 'city': 'ppppp'}, {'name': 'mayyy', 'age': '8', 'city': 'ppppp'}]\n"
     ]
    }
   ],
   "source": [
    "# name , age ,city\n",
    "\n",
    "# duplicate input (logic bug)\n",
    "employees=[]\n",
    "\n",
    "employee = {\"name\": input(\"please insert your name\"),\"age\":input(\"please insert your age\"),\"city\":input(\"please insert your city\")}\n",
    "def addEmployee():\n",
    "    while(True):\n",
    "        \n",
    "        employee.update({\"name\": input(\"please insert your name\")})\n",
    "        employee.update({\"age\": input(\"please insert your age\")})\n",
    "        employee.update({\"city\": input(\"please insert your city\")})\n",
    "        employees.append(employee)\n",
    "        if input(\"continue? N - eXit\") ==\"N\": return\n",
    "\n",
    "\n",
    "addEmployee()\n",
    "print(employees)"
   ]
  },
  {
   "cell_type": "code",
   "execution_count": 29,
   "metadata": {},
   "outputs": [
    {
     "name": "stdout",
     "output_type": "stream",
     "text": [
      "[{'name': 'itay', 'age': '3', 'city': 'po'}]\n"
     ]
    }
   ],
   "source": [
    "\n",
    "employees=[]\n",
    "def getEmployee():\n",
    "    while(input(\"get employee? N - eXit\") !=\"N\"):\n",
    "        employee={}\n",
    "        employee[\"name\"]=input(\"enter your name\")\n",
    "        employee[\"age\"] =input(\"enter your age\")\n",
    "        employee[\"city\"] =input(\"enter your city\")\n",
    "        employees.append( employee)\n",
    "        print(employees)\n",
    "        \n",
    "\n",
    "getEmployee()"
   ]
  }
 ],
 "metadata": {
  "interpreter": {
   "hash": "2be5faf79681da6f2a61fdfdd5405d65d042280f7fba6178067603e3a2925119"
  },
  "kernelspec": {
   "display_name": "Python 3.10.1 64-bit",
   "name": "python3"
  },
  "language_info": {
   "codemirror_mode": {
    "name": "ipython",
    "version": 3
   },
   "file_extension": ".py",
   "mimetype": "text/x-python",
   "name": "python",
   "nbconvert_exporter": "python",
   "pygments_lexer": "ipython3",
   "version": "3.10.1"
  },
  "orig_nbformat": 4
 },
 "nbformat": 4,
 "nbformat_minor": 2
}
